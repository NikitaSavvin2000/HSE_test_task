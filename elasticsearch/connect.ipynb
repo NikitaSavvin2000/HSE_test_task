{
 "cells": [
  {
   "cell_type": "code",
   "execution_count": 17,
   "id": "initial_id",
   "metadata": {
    "collapsed": true,
    "ExecuteTime": {
     "end_time": "2023-09-19T08:09:59.174856Z",
     "start_time": "2023-09-19T08:09:59.077357Z"
    }
   },
   "outputs": [
    {
     "name": "stdout",
     "output_type": "stream",
     "text": [
      "True\n"
     ]
    }
   ],
   "source": [
    "from elasticsearch import Elasticsearch\n",
    "\n",
    "from elasticsearch.helpers import bulk\n",
    "es = Elasticsearch([{\"host\": \"localhost\", \"port\": 9200, \"scheme\": \"http\"}])\n",
    "print(es.ping())"
   ]
  },
  {
   "cell_type": "code",
   "execution_count": 14,
   "outputs": [],
   "source": [
    "import gspread\n",
    "\n",
    "\n",
    "gs = gspread.service_account(filename='service_account.json')\n",
    "sh_clean = gs.open_by_key('1yuCSKE7hbbX_ChOu9vCFJVdnAkC3T9rSg9pFpZIulOA')\n",
    "worksheet_clean = sh_clean.sheet1\n",
    "clean_data = worksheet_clean.get_all_values()\n",
    "\n",
    "import pandas as pd\n",
    "\n",
    "df_graph = pd.DataFrame(clean_data[1:], columns=clean_data[0])\n",
    "\n",
    "df_graph['x'] = df_graph['x'].str.replace(',', '.')\n",
    "df_graph['y'] = df_graph['y'].str.replace(',', '.')\n",
    "df_graph['x'] = df_graph['x'].astype(float)\n",
    "df_graph['y'] = df_graph['y'].astype(float)\n"
   ],
   "metadata": {
    "collapsed": false,
    "ExecuteTime": {
     "end_time": "2023-09-19T08:05:19.659078Z",
     "start_time": "2023-09-19T08:05:13.751274Z"
    }
   },
   "id": "9ef40f14ac2d3db6"
  },
  {
   "cell_type": "code",
   "execution_count": 16,
   "outputs": [
    {
     "name": "stdout",
     "output_type": "stream",
     "text": [
      "Index(['area', 'cluster', 'cluster_name', 'keyword', 'count', 'x', 'y',\n",
      "       'color'],\n",
      "      dtype='object')\n"
     ]
    }
   ],
   "source": [
    "print(df_graph.columns)"
   ],
   "metadata": {
    "collapsed": false,
    "ExecuteTime": {
     "end_time": "2023-09-19T08:07:04.994536Z",
     "start_time": "2023-09-19T08:07:04.820186Z"
    }
   },
   "id": "37f53f0547117eff"
  },
  {
   "cell_type": "code",
   "execution_count": 30,
   "outputs": [
    {
     "name": "stderr",
     "output_type": "stream",
     "text": [
      "/var/folders/z5/wq_n2wnn1d39t43rd8s7f6g00000gn/T/ipykernel_1370/2184878193.py:23: DeprecationWarning: Passing transport options in the API method is deprecated. Use 'Elasticsearch.options()' instead.\n",
      "  es.indices.create(index=index_name, ignore=400)\n"
     ]
    },
    {
     "data": {
      "text/plain": "ObjectApiResponse({'acknowledged': True, 'shards_acknowledged': True, 'index': 'hse_test_task'})"
     },
     "execution_count": 30,
     "metadata": {},
     "output_type": "execute_result"
    }
   ],
   "source": [
    "data_to_write = df_graph.to_dict(orient='records')\n",
    "index_name = 'hse_test_task'\n",
    "\n",
    "field_mappings = {\n",
    "    \"area\": {\"type\": \"text\"},\n",
    "    \"cluster\": {\"type\": \"text\"},\n",
    "    \"cluster_name\": {\"type\": \"text\"},\n",
    "    \"keyword\": {\"type\": \"keyword\"},\n",
    "    \"count\": {\"type\": \"integer\"},\n",
    "    \"x\": {\"type\": \"float\"},\n",
    "    \"y\": {\"type\": \"float\"},\n",
    "    \"color\": {\"type\": \"text\"}\n",
    "}\n",
    "\n",
    "\n",
    "index_settings = {\n",
    "    \"settings\": {\n",
    "        \"number_of_shards\": 1,\n",
    "        \"number_of_replicas\": 1\n",
    "    }\n",
    "}\n",
    "\n",
    "es.indices.create(index=index_name, ignore=400)\n"
   ],
   "metadata": {
    "collapsed": false,
    "ExecuteTime": {
     "end_time": "2023-09-19T08:30:18.158264Z",
     "start_time": "2023-09-19T08:30:17.157565Z"
    }
   },
   "id": "5087a6462695b6da"
  },
  {
   "cell_type": "code",
   "execution_count": 31,
   "outputs": [
    {
     "name": "stderr",
     "output_type": "stream",
     "text": [
      "/var/folders/z5/wq_n2wnn1d39t43rd8s7f6g00000gn/T/ipykernel_1370/3590665393.py:1: DeprecationWarning: The 'body' parameter is deprecated and will be removed in a future version. Instead use individual parameters.\n",
      "  es.indices.put_mapping(index=index_name, body={\"properties\": field_mappings})\n"
     ]
    },
    {
     "data": {
      "text/plain": "ObjectApiResponse({'acknowledged': True})"
     },
     "execution_count": 31,
     "metadata": {},
     "output_type": "execute_result"
    }
   ],
   "source": [
    "es.indices.put_mapping(index=index_name, body={\"properties\": field_mappings})"
   ],
   "metadata": {
    "collapsed": false,
    "ExecuteTime": {
     "end_time": "2023-09-19T08:30:23.561379Z",
     "start_time": "2023-09-19T08:30:23.305605Z"
    }
   },
   "id": "baf5c0b32ae68502"
  },
  {
   "cell_type": "code",
   "execution_count": 32,
   "outputs": [],
   "source": [
    "actions = [\n",
    "    {\n",
    "        \"_index\": index_name,\n",
    "        \"_source\": data\n",
    "    }\n",
    "    for data in data_to_write\n",
    "]\n",
    "\n",
    "success, failed = bulk(es, actions, index=index_name, raise_on_error=True)\n"
   ],
   "metadata": {
    "collapsed": false,
    "ExecuteTime": {
     "end_time": "2023-09-19T08:30:27.153546Z",
     "start_time": "2023-09-19T08:30:26.945255Z"
    }
   },
   "id": "bb845d8e738af29"
  },
  {
   "cell_type": "code",
   "execution_count": 34,
   "outputs": [
    {
     "name": "stdout",
     "output_type": "stream",
     "text": [
      "{'area': 'ar\\\\vr', 'cluster': '0', 'cluster_name': 'Кластер 0', 'keyword': 'written conflict fabulous', 'count': '1443', 'x': 2.991167387, 'y': 7.106798807, 'color': '#ffd94a'}\n",
      "{'area': 'ar\\\\vr', 'cluster': '0', 'cluster_name': 'Кластер 0', 'keyword': 'reservations linking', 'count': '751', 'x': 10.19560242, 'y': 12.25949571, 'color': '#ffd94a'}\n",
      "{'area': 'ar\\\\vr', 'cluster': '0', 'cluster_name': 'Кластер 0', 'keyword': 'interfaces neutral', 'count': '586', 'x': 10.44353325, 'y': 13.80991497, 'color': '#ffd94a'}\n",
      "{'area': 'ar\\\\vr', 'cluster': '0', 'cluster_name': 'Кластер 0', 'keyword': 'committees parallel', 'count': '173', 'x': 6.735259815, 'y': 3.613982972, 'color': '#ffd94a'}\n",
      "{'area': 'ar\\\\vr', 'cluster': '1', 'cluster_name': 'Кластер 1', 'keyword': 'postcards looked republic detector', 'count': '1397', 'x': 10.47447422, 'y': 6.220011967, 'color': '#3cb7cc'}\n",
      "{'area': 'ar\\\\vr', 'cluster': '1', 'cluster_name': 'Кластер 1', 'keyword': 'michael tobacco', 'count': '1007', 'x': 6.21087987, 'y': 12.72126396, 'color': '#3cb7cc'}\n",
      "{'area': 'ar\\\\vr', 'cluster': '1', 'cluster_name': 'Кластер 1', 'keyword': 'filling volunteers academics', 'count': '773', 'x': 10.83391996, 'y': 8.652736658, 'color': '#3cb7cc'}\n",
      "{'area': 'ar\\\\vr', 'cluster': '1', 'cluster_name': 'Кластер 1', 'keyword': 'celtic automation', 'count': '715', 'x': 12.1972752, 'y': 4.723751417, 'color': '#3cb7cc'}\n",
      "{'area': 'ar\\\\vr', 'cluster': '2', 'cluster_name': 'Кластер 2', 'keyword': 'enquiries implementation', 'count': '1249', 'x': 3.58071798, 'y': 8.089951462, 'color': '#82853b'}\n",
      "{'area': 'ar\\\\vr', 'cluster': '2', 'cluster_name': 'Кластер 2', 'keyword': 'previously standing languages commands', 'count': '889', 'x': 14.66808878, 'y': 8.467136441, 'color': '#82853b'}\n"
     ]
    },
    {
     "name": "stderr",
     "output_type": "stream",
     "text": [
      "/var/folders/z5/wq_n2wnn1d39t43rd8s7f6g00000gn/T/ipykernel_1370/1285631464.py:1: DeprecationWarning: The 'body' parameter is deprecated and will be removed in a future version. Instead use individual parameters.\n",
      "  search_result = es.search(index=index_name, body={\n"
     ]
    }
   ],
   "source": [
    "search_result = es.search(index=index_name, body={\n",
    "    \"size\": 10,\n",
    "    \"query\": {\n",
    "        \"match_all\": {}\n",
    "    }\n",
    "})\n",
    "\n",
    "# Получите результаты запроса\n",
    "hits = search_result['hits']['hits']\n",
    "\n",
    "# Выведите полученные документы\n",
    "for hit in hits:\n",
    "    print(hit['_source'])"
   ],
   "metadata": {
    "collapsed": false,
    "ExecuteTime": {
     "end_time": "2023-09-19T08:30:38.605335Z",
     "start_time": "2023-09-19T08:30:38.488388Z"
    }
   },
   "id": "c6f31b7b1729cfad"
  },
  {
   "cell_type": "code",
   "execution_count": 41,
   "outputs": [],
   "source": [
    "res = es.get(index=index_name, id='OdKPrIoBgai6cQ8b6JuY')"
   ],
   "metadata": {
    "collapsed": false,
    "ExecuteTime": {
     "end_time": "2023-09-19T08:34:34.739867Z",
     "start_time": "2023-09-19T08:34:34.649731Z"
    }
   },
   "id": "8af9c0e57ad594c5"
  },
  {
   "cell_type": "code",
   "execution_count": 42,
   "outputs": [
    {
     "name": "stdout",
     "output_type": "stream",
     "text": [
      "{'_index': 'hse_test_task', '_id': 'OdKPrIoBgai6cQ8b6JuY', '_version': 1, '_seq_no': 6, '_primary_term': 1, 'found': True, '_source': {'area': 'ar\\\\vr', 'cluster': '1', 'cluster_name': 'Кластер 1', 'keyword': 'filling volunteers academics', 'count': '773', 'x': 10.83391996, 'y': 8.652736658, 'color': '#3cb7cc'}}\n"
     ]
    }
   ],
   "source": [
    "print(res)"
   ],
   "metadata": {
    "collapsed": false,
    "ExecuteTime": {
     "end_time": "2023-09-19T08:34:38.724814Z",
     "start_time": "2023-09-19T08:34:38.525936Z"
    }
   },
   "id": "de1b0549081cc79a"
  },
  {
   "cell_type": "code",
   "execution_count": null,
   "outputs": [],
   "source": [],
   "metadata": {
    "collapsed": false
   },
   "id": "c85970a9aff58122"
  }
 ],
 "metadata": {
  "kernelspec": {
   "display_name": "Python 3",
   "language": "python",
   "name": "python3"
  },
  "language_info": {
   "codemirror_mode": {
    "name": "ipython",
    "version": 2
   },
   "file_extension": ".py",
   "mimetype": "text/x-python",
   "name": "python",
   "nbconvert_exporter": "python",
   "pygments_lexer": "ipython2",
   "version": "2.7.6"
  }
 },
 "nbformat": 4,
 "nbformat_minor": 5
}
