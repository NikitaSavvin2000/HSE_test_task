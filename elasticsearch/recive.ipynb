{
 "cells": [
  {
   "cell_type": "code",
   "execution_count": 1,
   "id": "initial_id",
   "metadata": {
    "collapsed": true,
    "ExecuteTime": {
     "end_time": "2023-09-19T09:42:27.976506Z",
     "start_time": "2023-09-19T09:42:27.780208Z"
    }
   },
   "outputs": [
    {
     "name": "stdout",
     "output_type": "stream",
     "text": [
      "True\n"
     ]
    }
   ],
   "source": [
    "from elasticsearch import Elasticsearch\n",
    "\n",
    "\n",
    "es = Elasticsearch([{\"host\": \"localhost\", \"port\": 9200, \"scheme\": \"http\"}])\n",
    "print(es.ping())"
   ]
  },
  {
   "cell_type": "code",
   "execution_count": 2,
   "outputs": [
    {
     "name": "stderr",
     "output_type": "stream",
     "text": [
      "/var/folders/z5/wq_n2wnn1d39t43rd8s7f6g00000gn/T/ipykernel_24175/2953410622.py:3: DeprecationWarning: The 'body' parameter is deprecated and will be removed in a future version. Instead use individual parameters.\n",
      "  search_result = es.search(index=index_name, body={\"query\": {\"match_all\": {}}}, size=10000)  #\n"
     ]
    }
   ],
   "source": [
    "index_name = 'hse_test_task'\n",
    "\n",
    "search_result = es.search(index=index_name, body={\"query\": {\"match_all\": {}}}, size=10000)  # \n",
    "\n",
    "hits = search_result['hits']['hits']\n"
   ],
   "metadata": {
    "collapsed": false,
    "ExecuteTime": {
     "end_time": "2023-09-19T09:42:35.971219Z",
     "start_time": "2023-09-19T09:42:35.800913Z"
    }
   },
   "id": "41774171ed31e996"
  },
  {
   "cell_type": "code",
   "execution_count": 5,
   "outputs": [],
   "source": [
    "import pandas as pd\n",
    "\n",
    "\n",
    "df = pd.DataFrame([hit['_source'] for hit in hits])\n",
    "\n",
    "excel_file = 'elasticsearch_data.xlsx'\n",
    "path = 'result/' + excel_file\n",
    "\n",
    "df.to_excel(path, index=False, engine='openpyxl')\n"
   ],
   "metadata": {
    "collapsed": false,
    "ExecuteTime": {
     "end_time": "2023-09-19T09:43:22.100681Z",
     "start_time": "2023-09-19T09:43:22.055578Z"
    }
   },
   "id": "e3ff6f99201971d6"
  },
  {
   "cell_type": "code",
   "execution_count": null,
   "outputs": [],
   "source": [],
   "metadata": {
    "collapsed": false
   },
   "id": "1e3d82bf376f850b"
  }
 ],
 "metadata": {
  "kernelspec": {
   "display_name": "Python 3",
   "language": "python",
   "name": "python3"
  },
  "language_info": {
   "codemirror_mode": {
    "name": "ipython",
    "version": 2
   },
   "file_extension": ".py",
   "mimetype": "text/x-python",
   "name": "python",
   "nbconvert_exporter": "python",
   "pygments_lexer": "ipython2",
   "version": "2.7.6"
  }
 },
 "nbformat": 4,
 "nbformat_minor": 5
}
