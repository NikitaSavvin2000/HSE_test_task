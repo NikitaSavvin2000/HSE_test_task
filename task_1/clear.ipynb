{
 "cells": [
  {
   "cell_type": "code",
   "execution_count": 9,
   "outputs": [
    {
     "ename": "ModuleNotFoundError",
     "evalue": "No module named 'gspread'",
     "output_type": "error",
     "traceback": [
      "\u001B[0;31m---------------------------------------------------------------------------\u001B[0m",
      "\u001B[0;31mModuleNotFoundError\u001B[0m                       Traceback (most recent call last)",
      "Cell \u001B[0;32mIn[9], line 1\u001B[0m\n\u001B[0;32m----> 1\u001B[0m \u001B[38;5;28;01mimport\u001B[39;00m \u001B[38;5;21;01mgspread\u001B[39;00m\n\u001B[1;32m      4\u001B[0m \u001B[38;5;124;03m'''Подключение таблицы\u001B[39;00m\n\u001B[1;32m      5\u001B[0m \u001B[38;5;124;03m    в client_secrets.json содержится данные для подключения к проекту с тестовым заданием Google cloud\u001B[39;00m\n\u001B[1;32m      6\u001B[0m \u001B[38;5;124;03m'''\u001B[39;00m\n\u001B[1;32m      7\u001B[0m gs \u001B[38;5;241m=\u001B[39m gspread\u001B[38;5;241m.\u001B[39mservice_account(filename\u001B[38;5;241m=\u001B[39m\u001B[38;5;124m'\u001B[39m\u001B[38;5;124mservice_account.json\u001B[39m\u001B[38;5;124m'\u001B[39m) \u001B[38;5;66;03m# Подключение к сервису\u001B[39;00m\n",
      "\u001B[0;31mModuleNotFoundError\u001B[0m: No module named 'gspread'"
     ]
    }
   ],
   "source": [
    "import gspread\n",
    "\n",
    "\n",
    "'''Подключение таблицы\n",
    "    в client_secrets.json содержится данные для подключения к проекту с тестовым заданием Google cloud\n",
    "'''\n",
    "gs = gspread.service_account(filename='service_account.json') # Подключение к сервису\n",
    "sh_orig = gs.open_by_key('1syKH39TurHv9AVuUGcS-o9r51xw5nT2yQ6eEV3XM-PQ')# Инициализация таблицы\n",
    "worksheet_orig = sh_orig.sheet1 #Указание листа\n",
    "orig_data = worksheet_orig.get_all_values() #Получение данных\n"
   ],
   "metadata": {
    "collapsed": false,
    "ExecuteTime": {
     "end_time": "2023-09-04T14:18:37.512449Z",
     "start_time": "2023-09-04T14:18:37.359980Z"
    }
   },
   "id": "800a928fade9b4fe"
  },
  {
   "cell_type": "code",
   "execution_count": 2,
   "outputs": [],
   "source": [
    "import pandas as pd\n",
    "\n",
    "\n",
    "df_orig = pd.DataFrame(orig_data[1:], columns=orig_data[0]) #Перевод данных в формат DataFrame\n"
   ],
   "metadata": {
    "collapsed": false,
    "ExecuteTime": {
     "end_time": "2023-08-28T19:44:38.703027Z",
     "start_time": "2023-08-28T19:44:38.425530Z"
    }
   },
   "id": "96200c544d21368f"
  },
  {
   "cell_type": "code",
   "execution_count": 3,
   "outputs": [],
   "source": [
    "required_col = ['area', 'cluster', 'cluster_name', 'keyword', 'x', 'y', 'count'] # Требуемые колонки\n",
    "for col in df_orig.columns: #Цикл по колонкам считаемого DataFrame df_orig\n",
    "    if col not in required_col: #Условие удаления колонки\n",
    "        del df_orig[col] #Удаление колонки\n"
   ],
   "metadata": {
    "collapsed": false,
    "ExecuteTime": {
     "end_time": "2023-08-28T19:44:38.706351Z",
     "start_time": "2023-08-28T19:44:38.704218Z"
    }
   },
   "id": "b4e681aed9ba99dd"
  },
  {
   "cell_type": "code",
   "execution_count": 4,
   "outputs": [],
   "source": [
    "#Удаление дубликатов по условию, что в одной 'area' не может быть 2 одинаковых 'keyword'\n",
    "df_clean = df_orig.drop_duplicates(subset=['keyword', 'area',])\n"
   ],
   "metadata": {
    "collapsed": false,
    "ExecuteTime": {
     "end_time": "2023-08-28T19:44:38.711539Z",
     "start_time": "2023-08-28T19:44:38.707919Z"
    }
   },
   "id": "a940add1d0baaeda"
  },
  {
   "cell_type": "code",
   "execution_count": 5,
   "outputs": [],
   "source": [
    "#Ожидаемый тип данных\n",
    "expect_type = {\n",
    "    'area': str,\n",
    "    'cluster': int,\n",
    "    'cluster_name': str,\n",
    "    'keyword': str,\n",
    "    'count': int,\n",
    "    'x': float,\n",
    "    'y': float\n",
    "}\n"
   ],
   "metadata": {
    "collapsed": false,
    "ExecuteTime": {
     "end_time": "2023-08-28T19:44:38.714580Z",
     "start_time": "2023-08-28T19:44:38.711679Z"
    }
   },
   "id": "b2251e27b89272f4"
  },
  {
   "cell_type": "code",
   "execution_count": null,
   "outputs": [],
   "source": [
    "from view_clear import convert_to_expected_type\n",
    "\n",
    "\n",
    "for col, dtype in expect_type.items(): # Прохолим циклом по ключам и значением словаря \n",
    "    df_clean[col] = df_clean[col].apply( # Меняем тип колонки\n",
    "        convert_to_expected_type, # Вызываем фукцию которая меняет тип\n",
    "        expected_type=dtype # Ожидаемый тип \n",
    "    )\n"
   ],
   "metadata": {
    "collapsed": false
   },
   "id": "f1d3b7f3acc85a2c"
  },
  {
   "cell_type": "code",
   "execution_count": 7,
   "outputs": [],
   "source": [
    "for col, dtype in expect_type.items(): # Прохолим циклом по ключам и значением словаря \n",
    "    mask = df_clean[col].apply(lambda x: isinstance(x, dtype)) # Создание логического массива используя функцию isinstance по каждому элементу массива, тем самым помечая данные нежелательно формата\n",
    "    df_clean = df_clean[mask] # наполнение данным только данными с маской == True\n"
   ],
   "metadata": {
    "collapsed": false,
    "ExecuteTime": {
     "end_time": "2023-08-28T19:44:38.742576Z",
     "start_time": "2023-08-28T19:44:38.719228Z"
    }
   },
   "id": "c5c0e2072ab616bc"
  },
  {
   "cell_type": "code",
   "execution_count": 8,
   "outputs": [],
   "source": [
    "# Сортируем очищенные данные \n",
    "df_sort = df_clean.sort_values(\n",
    "    by=['area', 'cluster', 'count'], # Сортируемые столбцы\n",
    "    ascending=[True, True, False] # Логика сортировки True-по возрастающему, False-по убывающему)\n",
    ")\n"
   ],
   "metadata": {
    "collapsed": false,
    "ExecuteTime": {
     "end_time": "2023-08-28T19:44:38.742932Z",
     "start_time": "2023-08-28T19:44:38.725567Z"
    }
   },
   "id": "2cfd8ffaebe987c9"
  },
  {
   "cell_type": "code",
   "execution_count": 9,
   "outputs": [],
   "source": [
    "palettes = [ # Палитры цветов из 5 наборов (на выбор)\n",
    "    ['#39737c', '#98d9e4', '#b85a0d', '#32a251'],\n",
    "    ['#ffd94a', '#3cb7cc', '#82853b', '#ff7f0f'],\n",
    "    ['#86b4a9', '#acb877', '#b85a0d', '#32a251'],\n",
    "    ['#ccc94d', '#39737c', '#86b4a9', '#ff7f0f'],\n",
    "    ['#98d9e4', '#3cb7cc', '#ffb977', '#32a251']\n",
    "]\n"
   ],
   "metadata": {
    "collapsed": false,
    "ExecuteTime": {
     "end_time": "2023-08-28T19:44:38.746681Z",
     "start_time": "2023-08-28T19:44:38.728523Z"
    }
   },
   "id": "fe2495ac6489c723"
  },
  {
   "cell_type": "code",
   "execution_count": 10,
   "outputs": [],
   "source": [
    "cluster_colors = dict(zip(df_sort['cluster_name'].unique(), palettes[1])) #Формируем словарь соответвующий значению уникального кластера и цвета 2-ого набора палитры\n"
   ],
   "metadata": {
    "collapsed": false,
    "ExecuteTime": {
     "end_time": "2023-08-28T19:44:38.746881Z",
     "start_time": "2023-08-28T19:44:38.731442Z"
    }
   },
   "id": "7356a8c3e181074c"
  },
  {
   "cell_type": "code",
   "execution_count": 11,
   "outputs": [],
   "source": [
    "df_sort['color'] = df_sort['cluster_name'].map(cluster_colors) # Присваваем каждой строке уникального кластера цвет"
   ],
   "metadata": {
    "collapsed": false,
    "ExecuteTime": {
     "end_time": "2023-08-28T19:44:38.746932Z",
     "start_time": "2023-08-28T19:44:38.734541Z"
    }
   },
   "id": "c279abc8acd5aabb"
  },
  {
   "cell_type": "code",
   "execution_count": null,
   "outputs": [],
   "source": [
    "sh_clean = gs.open_by_key('1yuCSKE7hbbX_ChOu9vCFJVdnAkC3T9rSg9pFpZIulOA') # Идификатор таблицы записи результата\n",
    "worksheet_clean = sh_clean.sheet1 # Указание листа\n",
    "# Записываем данные в Google Spreadsheet\n",
    "worksheet_clean.clear() # Очищаем таблицу перед записью\n",
    "data_list = [df_sort.columns.tolist()] + df_sort.values.tolist() # Превращаем в списоки DataFrame(требование функции insert_rows) \n",
    "worksheet_clean.insert_rows(data_list) #вставляем данные в таблицу\n",
    "end_row = len(data_list) # Количество строк в списке\n",
    "end_col = len(data_list[0]) # Количество столбцов\n",
    "worksheet_clean.set_basic_filter(1, 1, end_row, end_col)  # Устанавливаем фильтры\n",
    "worksheet_clean.freeze(rows=1) # Закрепляем заголовки\n"
   ],
   "metadata": {
    "collapsed": false
   },
   "id": "76b77829a5ef7866"
  },
  {
   "cell_type": "code",
   "execution_count": 7,
   "outputs": [
    {
     "data": {
      "text/plain": "4"
     },
     "execution_count": 7,
     "metadata": {},
     "output_type": "execute_result"
    }
   ],
   "source": [
    "2+2"
   ],
   "metadata": {
    "collapsed": false,
    "ExecuteTime": {
     "end_time": "2023-09-04T14:18:00.233980Z",
     "start_time": "2023-09-04T14:18:00.061896Z"
    }
   },
   "id": "7f2f0fc5d9bb39c0"
  },
  {
   "cell_type": "markdown",
   "source": [],
   "metadata": {
    "collapsed": false
   },
   "id": "750c8340dfeeb8"
  }
 ],
 "metadata": {
  "kernelspec": {
   "display_name": "Python 3",
   "language": "python",
   "name": "python3"
  },
  "language_info": {
   "codemirror_mode": {
    "name": "ipython",
    "version": 2
   },
   "file_extension": ".py",
   "mimetype": "text/x-python",
   "name": "python",
   "nbconvert_exporter": "python",
   "pygments_lexer": "ipython2",
   "version": "2.7.6"
  }
 },
 "nbformat": 4,
 "nbformat_minor": 5
}
