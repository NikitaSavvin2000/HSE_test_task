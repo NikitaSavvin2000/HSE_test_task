{
 "cells": [
  {
   "cell_type": "code",
   "execution_count": 35,
   "id": "initial_id",
   "metadata": {
    "collapsed": true,
    "ExecuteTime": {
     "end_time": "2023-08-28T19:15:27.226689Z",
     "start_time": "2023-08-28T19:15:25.414998Z"
    }
   },
   "outputs": [],
   "source": [
    "import gspread\n",
    "\n",
    "\n",
    "'''Подключение таблицы с подготовленными данными\n",
    "    в client_secrets.json содержится данные для подключения к проекту с подготовленными данными Google cloud\n",
    "'''\n",
    "gs = gspread.service_account(filename='service_account.json') # Подключение к сервису\n",
    "sh_clean = gs.open_by_key('1yuCSKE7hbbX_ChOu9vCFJVdnAkC3T9rSg9pFpZIulOA') # Инициализация таблицы\n",
    "worksheet_clean= sh_clean.sheet1 #Указание листа\n",
    "clean_data = worksheet_clean.get_all_values() #Получение данных\n"
   ]
  },
  {
   "cell_type": "code",
   "execution_count": 36,
   "outputs": [],
   "source": [
    "import pandas as pd\n",
    "\n",
    "\n",
    "df_graph = pd.DataFrame(clean_data[1:], columns=clean_data[0])\n"
   ],
   "metadata": {
    "collapsed": false,
    "ExecuteTime": {
     "end_time": "2023-08-28T19:15:27.236853Z",
     "start_time": "2023-08-28T19:15:27.233704Z"
    }
   },
   "id": "a8a14cc92a8d7533"
  },
  {
   "cell_type": "code",
   "execution_count": 37,
   "outputs": [],
   "source": [
    "df_graph['x'] = df_graph['x'].str.replace(',', '.') # Замена запятых на точки в колонке 'x'\n",
    "df_graph['y'] = df_graph['y'].str.replace(',', '.') # Замена запятых на точки в колонке 'y'\n",
    "df_graph['x'] = df_graph['x'].astype(float) # Преобразование в тип float\n",
    "df_graph['y'] = df_graph['y'].astype(float)# Преобразование в тип float\n"
   ],
   "metadata": {
    "collapsed": false,
    "ExecuteTime": {
     "end_time": "2023-08-28T19:15:27.244432Z",
     "start_time": "2023-08-28T19:15:27.242274Z"
    }
   },
   "id": "ed75444c4e70b505"
  },
  {
   "cell_type": "code",
   "execution_count": 41,
   "outputs": [],
   "source": [
    "import os\n",
    "import matplotlib.pyplot as plt\n",
    "import textwrap\n",
    "from adjustText import adjust_text\n",
    "from view_upload import upload_photo\n",
    "\n",
    "# Параметры для графиков и текста\n",
    "text_fontsize = 15 # Размер текста 'keyword'\n",
    "marker_size = 200 # Размер точек распределения \n",
    "circle_size = 100 # Размер точек на легенде\n",
    "edge_color = 'black' # Цвет обводки точек\n",
    "edge_linewidth = 1 # Толщина обводки точек\n",
    "footer_fontsize = 20 # Размер текста footer-подписи\n",
    "label_fontsize = 15 # Размер текста легенды \n",
    "title_fontsize = 17 # # Размер названия легенды \n",
    "\n",
    "\n",
    "unique_areas = df_graph['area'].unique() # Уникальные значения 'area' \n",
    "\n",
    "for area in unique_areas: # Цикл для создания графиков для каждой области\n",
    "    area_df = df_graph[df_graph['area'] == area] # Выбор данных по текущей области\n",
    "    width = 1500 / 80  # Ширина в дюймах (по условию ТЗ)\n",
    "    height = 1500 / 80  # Высота в дюймах (по условию ТЗ)\n",
    "\n",
    "    fig, ax = plt.subplots(figsize=(width, height)) # Создание объектов графика и осей\n",
    "    scatter_handles = []\n",
    "\n",
    "    # Добавление точек на график с определенными параметрами\n",
    "    ax.scatter(area_df['x'], area_df['y'], c=area_df['color'], marker='o', s=circle_size, edgecolors=edge_color, linewidths=edge_linewidth)\n",
    "\n",
    "    # Отбор уникальных значений 'cluster_name', 'color' для легенды\n",
    "    labels_df = area_df.drop_duplicates(subset='cluster_name')[['cluster_name', 'color']]\n",
    "\n",
    "    text_labels = []\n",
    "    # Добавление текстовых меток с оберткой на график\n",
    "    for i, keyword in enumerate(area_df['keyword']): # перебор всех элементов в колонке 'keyword'\n",
    "        wrapped_keyword = \"\\n\".join(textwrap.wrap(keyword, width=15)) # перенос если 'keyword' > 15 символов\n",
    "        # Параметры выставления текста 'keyword' над точками масштаб, прозрачность текста, выравнивание\n",
    "        text_labels.append(ax.text(area_df['x'].iloc[i], area_df['y'].iloc[i], wrapped_keyword,\n",
    "                                   fontsize=text_fontsize, alpha=0.7, ha='center', va='center'))\n",
    "\n",
    "    # Создание точек для элементов легенды\n",
    "    for _, row in labels_df.iterrows():\n",
    "        # Создание  точки с цветом, формой, названием и размером\n",
    "        scatter = ax.scatter([], [], c=row['color'], marker='o', label=row['cluster_name'], s=marker_size)\n",
    "        scatter_handles.append(scatter) # Добавление созданной точки в список \n",
    "\n",
    "    # Оптимизация расположения текста над точками с помощью библиотеки AdjustText\n",
    "    adjust_text(text_labels, force_points=(2, 2), arrowprops=dict(arrowstyle='->', color='black', mutation_scale=15, linewidth=1.5))\n",
    "\n",
    "    # Добавление легенды на график, название легенты, размер текста\n",
    "    legend = ax.legend(handles=scatter_handles, title='Кластеры', markerscale=1, fontsize=label_fontsize,\n",
    "                       title_fontsize=title_fontsize, loc='center left', bbox_to_anchor=(1, 0.5))\n",
    "\n",
    "    # Добавление footer-подписи внизу графика \n",
    "    footer_text = f'Диаграмма рассеивания для области {area}' # Формирование текста\n",
    "    ax.text(0.6, -0.05, footer_text, transform=ax.transAxes, ha='center', va='center', fontsize=footer_fontsize) # расположение и размер текста\n",
    "\n",
    "    # Удаление подписей на осях и рамки (по примеру svg файла из ТЗ)\n",
    "    ax.set_xticks([]) # Удаление подписи на оси х\n",
    "    ax.set_yticks([]) # Удаление подписи на оси у\n",
    "    ax.axis('off') # Удаление рамки \n",
    "\n",
    "    # Сохранение графиков в файл и его загрузка\n",
    "    folder_path = r'result_graph' # Директория проекта для хранения графиков\n",
    "    name_graph = f'{area}_scatter_graph.png' # формирование названия графика\n",
    "    file_path = os.path.join(folder_path, name_graph) # соеденение в путь для сохранения\n",
    "    plt.savefig(file_path, bbox_inches='tight') # Сохранение локально\n",
    "    upload_photo(file_path, name_graph) # Сохранение в Google drive\n",
    "\n",
    "    plt.close()# Закрытие текущего графика\n"
   ],
   "metadata": {
    "collapsed": false,
    "ExecuteTime": {
     "end_time": "2023-08-28T19:29:20.107433Z",
     "start_time": "2023-08-28T19:28:29.530992Z"
    }
   },
   "id": "f2c9ee14e27615f8"
  }
 ],
 "metadata": {
  "kernelspec": {
   "display_name": "Python 3",
   "language": "python",
   "name": "python3"
  },
  "language_info": {
   "codemirror_mode": {
    "name": "ipython",
    "version": 2
   },
   "file_extension": ".py",
   "mimetype": "text/x-python",
   "name": "python",
   "nbconvert_exporter": "python",
   "pygments_lexer": "ipython2",
   "version": "2.7.6"
  }
 },
 "nbformat": 4,
 "nbformat_minor": 5
}
